{
 "cells": [
  {
   "cell_type": "code",
   "execution_count": 1,
   "metadata": {},
   "outputs": [],
   "source": [
    "import numpy as np\n",
    "import matplotlib.pyplot as plt\n",
    "import pandas as pd\n",
    "from icecream import ic\n",
    "from sklearn.preprocessing import LabelEncoder\n",
    "import time\n",
    "from itertools import product\n",
    "from icecream import ic\n",
    "\n",
    "\n",
    "plt.rcParams['font.sans-serif'] = ['SimHei']\n",
    "plt.rcParams['axes.unicode_minus'] = False\n",
    "\n",
    "sales_train = pd.read_csv('./data/sales_train.csv')\n",
    "test = pd.read_csv('./data/test.csv')   # (214200, 3)\n",
    "\n",
    "# 计算每个商品每个月的销售量，假如某个商品在某个月没有数据，则填充0（即这个月的销售量为0）\n",
    "sales_by_item_id = sales_train.pivot_table(index=['item_id'], values=['item_cnt_day'], columns='date_block_num', aggfunc=np.sum, fill_value=0).reset_index()\n",
    "sales_by_item_id.columns = sales_by_item_id.columns.droplevel().map(str)   # 去掉第一层索引\n",
    "sales_by_item_id.columns.values[0] = 'item_id'\n",
    "sales_by_item_id = sales_by_item_id.rename_axis(None, axis=1)\n",
    "\n",
    "# 获取最近6个月销售量为0的数据\n",
    "six_zero = sales_by_item_id[(sales_by_item_id['28'] == 0) & (sales_by_item_id['29'] == 0) & (sales_by_item_id['30'] == 0) & (sales_by_item_id['31'] == 0) & (sales_by_item_id['32'] == 0) & (sales_by_item_id['33'] == 0)]\n",
    "six_zero_item_id = list(six_zero['item_id'].values)   # item_id列表\n",
    "# test.loc[test.item_id.isin(six_zero_item_id), 'item_cnt_month'] = 0  # 将test数据中（最近六个月销量为0）的数据月销量设为0，有7812个\n",
    "\n",
    "# 计算每个商店每个月的销量\n",
    "sales_by_shop_id = sales_train.pivot_table(index=['shop_id'], values=['item_cnt_day'], aggfunc=np.sum, fill_value=0, columns='date_block_num').reset_index()\n",
    "sales_by_shop_id.columns = sales_by_shop_id.columns.droplevel().map(str)    # 将两层column转化为一层column,保留下层column\n",
    "sales_by_shop_id.columns.values[0] = 'shop_id'\n",
    "sales_by_shop_id = sales_by_shop_id.rename_axis(None, axis=1)   # 将列方向的轴重命名为none\n",
    "\n",
    "# zero = sales_train[sales_train.date_block_num==0]\n",
    "# ic(zero.shop_id.unique(), len(zero.item_id.unique()), len(zero.shop_id.unique()), len(zero.shop_id.unique()) * len(zero.item_id.unique()))\n",
    "# ic(sales_train.shop_id.unique(), len(sales_train.item_id.unique()), len(sales_train.shop_id.unique()), len(sales_train.shop_id.unique()) * len(sales_train.item_id.unique()))\n",
    "\n",
    "\"\"\"组合date_block_num,shop_id,item_id(部分) 总量：10913850\"\"\"\n",
    "matrix = []\n",
    "cols = ['date_block_num','shop_id','item_id']\n",
    "for i in range(34):\n",
    "    sales = sales_train[sales_train.date_block_num==i]\n",
    "    matrix.append(np.array(list(product([i], sales.shop_id.unique(), sales.item_id.unique())), dtype='int16'))\n",
    "matrix = pd.DataFrame(np.vstack(matrix), columns=cols)\n",
    "matrix['date_block_num'] = matrix['date_block_num'].astype(np.int8)\n",
    "matrix['shop_id'] = matrix['shop_id'].astype(np.int8)\n",
    "matrix.sort_values(cols, inplace=True)  # 排序\n",
    "sales_train['revenue'] = sales_train['item_price'] * sales_train['item_cnt_day']    # 某一天的销售额\n",
    "\n",
    "# 分组\n",
    "groupby = sales_train.groupby(['shop_id','item_id','date_block_num']).agg({'item_cnt_day': 'sum'}).reset_index()\n",
    "groupby = groupby.rename(columns={'item_cnt_day': 'item_cnt_month'})\n",
    "matrix = matrix.merge(groupby, on=['date_block_num','shop_id','item_id'], how='left')\n",
    "matrix['item_cnt_month'] = matrix['item_cnt_month'].fillna(0).clip(0, 20)\n",
    "matrix['item_cnt_month'] = matrix['item_cnt_month'].astype(np.float16)\n",
    "\n",
    "# test数据\n",
    "test['date_block_num'] = 34\n",
    "test['date_block_num'] = test['date_block_num'].astype(np.int8)\n",
    "test['shop_id'] = test['shop_id'].astype(np.int8)\n",
    "test['item_id'] = test['item_id'].astype(np.int16)\n",
    "\n",
    "# 合并matrix,test\n",
    "matrix = pd.concat([matrix, test[cols]], ignore_index=True, axis=0)\n",
    "matrix['item_cnt_month'].fillna(0, inplace=True)\n",
    "\n",
    "# 商品信息\n",
    "items = pd.read_csv('./data/items.csv')\n",
    "items = items[['item_id', 'item_category_id']]\n",
    "matrix = pd.merge(left=matrix, right=items, on='item_id', how='left')  # 合并\n",
    "\n",
    "# 商品类别\n",
    "le = LabelEncoder()\n",
    "categories = pd.read_csv('./data/item_categories.csv')\n",
    "categories['split'] = categories['item_category_name'].str.split('-')\n",
    "categories['type'] = categories['split'].map(lambda x:x[0].strip())\n",
    "categories['subtype'] = categories['split'].map(lambda x:x[1].strip() if len(x)>1 else x[0].strip())\n",
    "categories = categories[['item_category_id','type','subtype']]\n",
    "categories['cat_type_code'] = le.fit_transform(categories['type'])\n",
    "categories['cat_subtype_code'] = le.fit_transform(categories['subtype'])\n",
    "matrix = pd.merge(left=matrix, right=categories[['item_category_id','cat_type_code','cat_subtype_code']], on='item_category_id', how='left')    # 合并\n",
    "\n",
    "# 商店信息\n",
    "shops = pd.read_csv('./data/shops.csv')\n",
    "shops['split']=shops.shop_name.str.split(' ')\n",
    "shops['shop_city'] = shops['split'].map(lambda x:x[0])\n",
    "shops['shop_city_code'] = le.fit_transform(shops['shop_city'])\n",
    "\n",
    "def st(name):\n",
    "    if 'ТЦ' in name or 'ТРЦ' in name:\n",
    "        shopt = 'ТЦ'\n",
    "    elif 'ТК' in name:\n",
    "        shopt = 'ТК'\n",
    "    elif 'ТРК' in name:\n",
    "        shopt = 'ТРК'\n",
    "    elif 'МТРЦ' in name:\n",
    "        shopt = 'МТРЦ'\n",
    "    else:\n",
    "        shopt = 'UNKNOWN'\n",
    "    return shopt\n",
    "shops['shop_type'] = shops['shop_name'].apply(st)\n",
    "\n",
    "shops.loc[shops.shop_id == 21, 'shop_type'] = 'МТРЦ'   # 修正\n",
    "shops['shop_type_code'] = le.fit_transform(shops['shop_type'])\n",
    "matrix = pd.merge(left=matrix, right=shops[['shop_id','shop_city_code','shop_type_code']], on='shop_id', how='left')    # 合并\n",
    "matrix['item_category_id'] = matrix['item_category_id'].astype(np.int8)\n",
    "matrix['cat_type_code'] = matrix['cat_type_code'].astype(np.int8)\n",
    "matrix['cat_subtype_code'] = matrix['cat_subtype_code'].astype(np.int8)\n",
    "matrix['shop_city_code'] = matrix['shop_city_code'].astype(np.int8)\n",
    "matrix['shop_type_code'] = matrix['shop_type_code'].astype(np.int8)"
   ]
  },
  {
   "cell_type": "code",
   "execution_count": 2,
   "metadata": {},
   "outputs": [
    {
     "data": {
      "text/plain": [
       "(11128050, 9)"
      ]
     },
     "execution_count": 2,
     "metadata": {},
     "output_type": "execute_result"
    }
   ],
   "source": [
    "matrix.shape"
   ]
  },
  {
   "cell_type": "code",
   "execution_count": 3,
   "metadata": {},
   "outputs": [
    {
     "data": {
      "text/plain": [
       "date_block_num      11128050\n",
       "shop_id             11128050\n",
       "item_id             11128050\n",
       "item_cnt_month      11128050\n",
       "item_category_id    11128050\n",
       "cat_type_code       11128050\n",
       "cat_subtype_code    11128050\n",
       "shop_city_code      11128050\n",
       "shop_type_code      11128050\n",
       "dtype: int64"
      ]
     },
     "execution_count": 3,
     "metadata": {},
     "output_type": "execute_result"
    }
   ],
   "source": [
    "matrix.count()"
   ]
  },
  {
   "cell_type": "code",
   "execution_count": null,
   "metadata": {},
   "outputs": [
    {
     "name": "stderr",
     "output_type": "stream",
     "text": [
      "d:\\program files\\python37\\lib\\site-packages\\lightgbm\\engine.py:151: UserWarning: Found `n_estimators` in params. Will use it instead of argument\n",
      "  warnings.warn(\"Found `{}` in params. Will use it instead of argument\".format(alias))\n"
     ]
    },
    {
     "name": "stdout",
     "output_type": "stream",
     "text": [
      "[LightGBM] [Warning] Unknown parameter: early_stop_rounds\n"
     ]
    }
   ],
   "source": [
    "\"\"\"建模\"\"\"\n",
    "\n",
    "trainData = matrix[matrix['date_block_num'] < 33]\n",
    "label_train = trainData['item_cnt_month']\n",
    "X_train = trainData.drop('item_cnt_month', axis=1)\n",
    "\n",
    "validData = matrix[matrix['date_block_num'] == 33]\n",
    "label_valid = validData['item_cnt_month']\n",
    "X_valid = validData.drop('item_cnt_month', axis=1)\n",
    "\n",
    "import lightgbm as lgb\n",
    "train_data = lgb.Dataset(data=X_train, label=label_train)\n",
    "valid_data = lgb.Dataset(data=X_valid, label=label_valid)\n",
    "params = {\n",
    "    'objective': 'regression',  # 回归\n",
    "    'metric': 'rmse',   # 回归问题选择rmse\n",
    "    'n_estimators': 1000,\n",
    "    'num_leaves': 200,   # 每个弱学习器拥有的叶子的数量\n",
    "    'learning_rate': 0.01,\n",
    "    'bagging_fraction': 0.7,    # 每次训练“弱学习器”用的数据比例（应该也是随机的），用于加快训练速度和减小过拟合\n",
    "    'feature_fraction': 1,   # 每次迭代过程中，随机选择30%的特征建树（弱学习器）\n",
    "    'bagging_seed': 0,\n",
    "    'early_stop_rounds': 50\n",
    "}\n",
    "lgb_model = lgb.train(params, train_data, valid_sets=[train_data, valid_data])"
   ]
  },
  {
   "cell_type": "code",
   "execution_count": null,
   "metadata": {},
   "outputs": [],
   "source": []
  }
 ],
 "metadata": {
  "kernelspec": {
   "display_name": "Python 3",
   "language": "python",
   "name": "python3"
  },
  "language_info": {
   "codemirror_mode": {
    "name": "ipython",
    "version": 3
   },
   "file_extension": ".py",
   "mimetype": "text/x-python",
   "name": "python",
   "nbconvert_exporter": "python",
   "pygments_lexer": "ipython3",
   "version": "3.7.0"
  }
 },
 "nbformat": 4,
 "nbformat_minor": 4
}
