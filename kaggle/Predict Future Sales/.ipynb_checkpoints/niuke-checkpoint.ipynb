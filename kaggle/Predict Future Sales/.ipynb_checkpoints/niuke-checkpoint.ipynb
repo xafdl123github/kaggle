{
 "cells": [
  {
   "cell_type": "code",
   "execution_count": null,
   "metadata": {},
   "outputs": [
    {
     "name": "stdout",
     "output_type": "stream",
     "text": [
      "3\n",
      "键值对的个数是正整数！\n"
     ]
    }
   ],
   "source": [
    "while True:\n",
    "    num = input()\n",
    "    if not isinstance(num, int) or num <=0:\n",
    "        print('键值对的个数是正整数！')\n",
    "        continue\n",
    "        \n",
    "    lst = []\n",
    "    for i in range(num):\n",
    "        \n",
    "        while True:\n",
    "            row = input()\n",
    "            k, v = row.split()\n",
    "            if not isinstance(k, 'int') or num < 0:\n",
    "                print('key值必须是大于等于0的整数')\n",
    "                continue\n",
    "                \n",
    "            if not isinstance(v, 'int') or num <= 0:\n",
    "                print('value值必须是大于0的整数')\n",
    "                continue\n",
    "                \n",
    "            lst.append((k, v))\n",
    "\n",
    "lst"
   ]
  },
  {
   "cell_type": "code",
   "execution_count": null,
   "metadata": {},
   "outputs": [],
   "source": []
  }
 ],
 "metadata": {
  "kernelspec": {
   "display_name": "Python 3",
   "language": "python",
   "name": "python3"
  },
  "language_info": {
   "codemirror_mode": {
    "name": "ipython",
    "version": 3
   },
   "file_extension": ".py",
   "mimetype": "text/x-python",
   "name": "python",
   "nbconvert_exporter": "python",
   "pygments_lexer": "ipython3",
   "version": "3.7.0"
  }
 },
 "nbformat": 4,
 "nbformat_minor": 4
}
